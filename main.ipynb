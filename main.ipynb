{
 "cells": [
  {
   "cell_type": "code",
   "execution_count": 7,
   "id": "08776537",
   "metadata": {},
   "outputs": [],
   "source": [
    "%run models.ipynb"
   ]
  },
  {
   "cell_type": "code",
   "execution_count": 8,
   "id": "f8836c11",
   "metadata": {},
   "outputs": [
    {
     "ename": "NameError",
     "evalue": "name 'models' is not defined",
     "output_type": "error",
     "traceback": [
      "\u001b[0;31m---------------------------------------------------------------------------\u001b[0m",
      "\u001b[0;31mNameError\u001b[0m                                 Traceback (most recent call last)",
      "Cell \u001b[0;32mIn[8], line 2\u001b[0m\n\u001b[1;32m      1\u001b[0m \u001b[38;5;28;01mif\u001b[39;00m \u001b[38;5;18m__name__\u001b[39m \u001b[38;5;241m==\u001b[39m \u001b[38;5;124m'\u001b[39m\u001b[38;5;124m__main__\u001b[39m\u001b[38;5;124m'\u001b[39m:\n\u001b[0;32m----> 2\u001b[0m   cbow \u001b[38;5;241m=\u001b[39m models\u001b[38;5;241m.\u001b[39mCBOW(\u001b[38;5;241m20000\u001b[39m, \u001b[38;5;241m50\u001b[39m)\n\u001b[1;32m      3\u001b[0m   emb_weights \u001b[38;5;241m=\u001b[39m cbow\u001b[38;5;241m.\u001b[39membeddings\u001b[38;5;241m.\u001b[39mweight\u001b[38;5;241m.\u001b[39mdata \u001b[38;5;66;03m# shape(20.000, 50)\u001b[39;00m\n\u001b[1;32m      5\u001b[0m     \u001b[38;5;66;03m#use this from the CBOW\u001b[39;00m\n",
      "\u001b[0;31mNameError\u001b[0m: name 'models' is not defined"
     ]
    }
   ],
   "source": [
    "if __name__ == '__main__':\n",
    "  cbow = models.CBOW(20000, 50)\n",
    "  emb_weights = cbow.embeddings.weight.data # shape(20.000, 50)\n",
    "    \n",
    "    #use this from the CBOW\n",
    "  lang = Language(emb_weights)\n",
    "  sentence = torch.tensor([[5, 89, 3]]) # shape(1, 3)\n",
    "  out = lang(sentence) # shape(1, 7)"
   ]
  },
  {
   "cell_type": "code",
   "execution_count": null,
   "id": "491c7b18",
   "metadata": {},
   "outputs": [],
   "source": []
  }
 ],
 "metadata": {
  "kernelspec": {
   "display_name": "Python 3 (ipykernel)",
   "language": "python",
   "name": "python3"
  },
  "language_info": {
   "codemirror_mode": {
    "name": "ipython",
    "version": 3
   },
   "file_extension": ".py",
   "mimetype": "text/x-python",
   "name": "python",
   "nbconvert_exporter": "python",
   "pygments_lexer": "ipython3",
   "version": "3.11.5"
  }
 },
 "nbformat": 4,
 "nbformat_minor": 5
}
