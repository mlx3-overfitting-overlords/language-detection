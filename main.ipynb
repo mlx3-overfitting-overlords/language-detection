{
 "cells": [
  {
   "cell_type": "code",
   "execution_count": 1,
   "id": "f47210cf-38cf-4fa6-97c3-d67843f1a50a",
   "metadata": {},
   "outputs": [
    {
     "data": {
      "text/plain": [
       "['/home/james/language-detection',\n",
       " '/home/james/miniconda3/envs/language_detection/lib/python311.zip',\n",
       " '/home/james/miniconda3/envs/language_detection/lib/python3.11',\n",
       " '/home/james/miniconda3/envs/language_detection/lib/python3.11/lib-dynload',\n",
       " '',\n",
       " '/home/james/miniconda3/envs/language_detection/lib/python3.11/site-packages']"
      ]
     },
     "execution_count": 1,
     "metadata": {},
     "output_type": "execute_result"
    }
   ],
   "source": [
    "import sys\n",
    "sys.path"
   ]
  },
  {
   "cell_type": "code",
   "execution_count": 2,
   "id": "dfefb5b7-209f-4ad9-907c-ad4178d49ee7",
   "metadata": {
    "scrolled": true
   },
   "outputs": [],
   "source": [
    "import pyarrow as pa"
   ]
  },
  {
   "cell_type": "code",
   "execution_count": 4,
   "id": "718fd9ef-713e-44c8-aa91-f356654a42c3",
   "metadata": {},
   "outputs": [],
   "source": [
    "import pandas as pd\n",
    "# Load Parquet data\n",
    "DATA_FOLDER = './datasets/'\n",
    "PATHS = [DATA_FOLDER + 'CL_it-en.parquet', DATA_FOLDER + 'Flores7Lang.parquet']\n",
    "data = pd.read_parquet(PATHS[0])\n",
    "# Now, you can use the `data` DataFrame to analyse and manipulate the data.\n"
   ]
  },
  {
   "cell_type": "code",
   "execution_count": 5,
   "id": "2605a285-4b9d-4c86-b7bf-ee90196d7e89",
   "metadata": {},
   "outputs": [
    {
     "data": {
      "text/html": [
       "<div>\n",
       "<style scoped>\n",
       "    .dataframe tbody tr th:only-of-type {\n",
       "        vertical-align: middle;\n",
       "    }\n",
       "\n",
       "    .dataframe tbody tr th {\n",
       "        vertical-align: top;\n",
       "    }\n",
       "\n",
       "    .dataframe thead th {\n",
       "        text-align: right;\n",
       "    }\n",
       "</style>\n",
       "<table border=\"1\" class=\"dataframe\">\n",
       "  <thead>\n",
       "    <tr style=\"text-align: right;\">\n",
       "      <th></th>\n",
       "      <th>it</th>\n",
       "      <th>en</th>\n",
       "    </tr>\n",
       "  </thead>\n",
       "  <tbody>\n",
       "    <tr>\n",
       "      <th>0</th>\n",
       "      <td>Ripresa della sessione</td>\n",
       "      <td>Resumption of the session</td>\n",
       "    </tr>\n",
       "    <tr>\n",
       "      <th>1</th>\n",
       "      <td>Dichiaro ripresa la sessione del Parlamento eu...</td>\n",
       "      <td>I declare resumed the session of the European ...</td>\n",
       "    </tr>\n",
       "    <tr>\n",
       "      <th>2</th>\n",
       "      <td>Come avrete avuto modo di constatare il grande...</td>\n",
       "      <td>Although, as you will have seen, the dreaded '...</td>\n",
       "    </tr>\n",
       "    <tr>\n",
       "      <th>3</th>\n",
       "      <td>Avete chiesto che si tenesse una discussione s...</td>\n",
       "      <td>You have requested a debate on this subject in...</td>\n",
       "    </tr>\n",
       "    <tr>\n",
       "      <th>4</th>\n",
       "      <td>Nel frattempo è mio desiderio, come del resto ...</td>\n",
       "      <td>In the meantime, I should like to observe a mi...</td>\n",
       "    </tr>\n",
       "  </tbody>\n",
       "</table>\n",
       "</div>"
      ],
      "text/plain": [
       "                                                  it  \\\n",
       "0                             Ripresa della sessione   \n",
       "1  Dichiaro ripresa la sessione del Parlamento eu...   \n",
       "2  Come avrete avuto modo di constatare il grande...   \n",
       "3  Avete chiesto che si tenesse una discussione s...   \n",
       "4  Nel frattempo è mio desiderio, come del resto ...   \n",
       "\n",
       "                                                  en  \n",
       "0                          Resumption of the session  \n",
       "1  I declare resumed the session of the European ...  \n",
       "2  Although, as you will have seen, the dreaded '...  \n",
       "3  You have requested a debate on this subject in...  \n",
       "4  In the meantime, I should like to observe a mi...  "
      ]
     },
     "execution_count": 5,
     "metadata": {},
     "output_type": "execute_result"
    }
   ],
   "source": [
    "data.head()"
   ]
  },
  {
   "cell_type": "code",
   "execution_count": null,
   "id": "a26c4cbf-9bd3-425f-b4a7-9dcf2aa8fe3c",
   "metadata": {},
   "outputs": [],
   "source": []
  },
  {
   "cell_type": "code",
   "execution_count": 6,
   "id": "900cef2e-ddd0-4e63-ac25-9e00840a1686",
   "metadata": {},
   "outputs": [
    {
     "data": {
      "text/plain": [
       "0                                     Ripresa della sessione\n",
       "1          Dichiaro ripresa la sessione del Parlamento eu...\n",
       "2          Come avrete avuto modo di constatare il grande...\n",
       "3          Avete chiesto che si tenesse una discussione s...\n",
       "4          Nel frattempo è mio desiderio, come del resto ...\n",
       "                                 ...                        \n",
       "1878571    Inoltre, nonostante siano assenti, vorrei ring...\n",
       "1878572    Non riaprirò il dibattito \"millennio sì, mille...\n",
       "1878573                          Interruzione della sessione\n",
       "1878574    Dichiaro interrotta la sessione del Parlamento...\n",
       "1878575                       (La seduta termina alle 10.50)\n",
       "Name: it, Length: 1878576, dtype: object"
      ]
     },
     "execution_count": 6,
     "metadata": {},
     "output_type": "execute_result"
    }
   ],
   "source": [
    "data['it']"
   ]
  },
  {
   "cell_type": "code",
   "execution_count": 7,
   "id": "fd0036c0-f9c8-4499-8c19-f9a53556eb68",
   "metadata": {},
   "outputs": [
    {
     "data": {
      "text/plain": [
       "Index(['it', 'en'], dtype='object')"
      ]
     },
     "execution_count": 7,
     "metadata": {},
     "output_type": "execute_result"
    }
   ],
   "source": [
    "data.columns"
   ]
  },
  {
   "cell_type": "code",
   "execution_count": 8,
   "id": "ffdded9d-6af0-4418-bb9d-f3b81c2eaa9f",
   "metadata": {},
   "outputs": [
    {
     "data": {
      "text/plain": [
       "<bound method DataFrame.info of                                                         it  \\\n",
       "0                                   Ripresa della sessione   \n",
       "1        Dichiaro ripresa la sessione del Parlamento eu...   \n",
       "2        Come avrete avuto modo di constatare il grande...   \n",
       "3        Avete chiesto che si tenesse una discussione s...   \n",
       "4        Nel frattempo è mio desiderio, come del resto ...   \n",
       "...                                                    ...   \n",
       "1878571  Inoltre, nonostante siano assenti, vorrei ring...   \n",
       "1878572  Non riaprirò il dibattito \"millennio sì, mille...   \n",
       "1878573                        Interruzione della sessione   \n",
       "1878574  Dichiaro interrotta la sessione del Parlamento...   \n",
       "1878575                     (La seduta termina alle 10.50)   \n",
       "\n",
       "                                                        en  \n",
       "0                                Resumption of the session  \n",
       "1        I declare resumed the session of the European ...  \n",
       "2        Although, as you will have seen, the dreaded '...  \n",
       "3        You have requested a debate on this subject in...  \n",
       "4        In the meantime, I should like to observe a mi...  \n",
       "...                                                    ...  \n",
       "1878571                                               None  \n",
       "1878572                                               None  \n",
       "1878573                                               None  \n",
       "1878574                                               None  \n",
       "1878575                                               None  \n",
       "\n",
       "[1878576 rows x 2 columns]>"
      ]
     },
     "execution_count": 8,
     "metadata": {},
     "output_type": "execute_result"
    }
   ],
   "source": [
    "data.info"
   ]
  },
  {
   "cell_type": "code",
   "execution_count": 9,
   "id": "2b7f614f-ac0d-49d8-9da4-7298d02a46a0",
   "metadata": {},
   "outputs": [
    {
     "data": {
      "text/plain": [
       "0           22\n",
       "1          182\n",
       "2          211\n",
       "3          112\n",
       "4          224\n",
       "          ... \n",
       "1878571     90\n",
       "1878572    194\n",
       "1878573     27\n",
       "1878574     55\n",
       "1878575     30\n",
       "Name: it_len_of_sen, Length: 1878576, dtype: int64"
      ]
     },
     "execution_count": 9,
     "metadata": {},
     "output_type": "execute_result"
    }
   ],
   "source": [
    "data['it_len_of_sen'] = data['it'].apply(lambda s : len(s))\n",
    "data['it_len_of_sen']"
   ]
  },
  {
   "cell_type": "code",
   "execution_count": 33,
   "id": "193a08db-63d4-4679-ba34-ad799b9bf4c5",
   "metadata": {},
   "outputs": [
    {
     "data": {
      "text/html": [
       "<div>\n",
       "<style scoped>\n",
       "    .dataframe tbody tr th:only-of-type {\n",
       "        vertical-align: middle;\n",
       "    }\n",
       "\n",
       "    .dataframe tbody tr th {\n",
       "        vertical-align: top;\n",
       "    }\n",
       "\n",
       "    .dataframe thead th {\n",
       "        text-align: right;\n",
       "    }\n",
       "</style>\n",
       "<table border=\"1\" class=\"dataframe\">\n",
       "  <thead>\n",
       "    <tr style=\"text-align: right;\">\n",
       "      <th></th>\n",
       "      <th>it</th>\n",
       "      <th>en</th>\n",
       "      <th>len_of_sen</th>\n",
       "      <th>it_len_of_sen</th>\n",
       "    </tr>\n",
       "  </thead>\n",
       "  <tbody>\n",
       "    <tr>\n",
       "      <th>0</th>\n",
       "      <td>Ripresa della sessione</td>\n",
       "      <td>Resumption of the session</td>\n",
       "      <td>22</td>\n",
       "      <td>22</td>\n",
       "    </tr>\n",
       "    <tr>\n",
       "      <th>1</th>\n",
       "      <td>Dichiaro ripresa la sessione del Parlamento eu...</td>\n",
       "      <td>I declare resumed the session of the European ...</td>\n",
       "      <td>182</td>\n",
       "      <td>182</td>\n",
       "    </tr>\n",
       "    <tr>\n",
       "      <th>2</th>\n",
       "      <td>Come avrete avuto modo di constatare il grande...</td>\n",
       "      <td>Although, as you will have seen, the dreaded '...</td>\n",
       "      <td>211</td>\n",
       "      <td>211</td>\n",
       "    </tr>\n",
       "    <tr>\n",
       "      <th>3</th>\n",
       "      <td>Avete chiesto che si tenesse una discussione s...</td>\n",
       "      <td>You have requested a debate on this subject in...</td>\n",
       "      <td>112</td>\n",
       "      <td>112</td>\n",
       "    </tr>\n",
       "    <tr>\n",
       "      <th>4</th>\n",
       "      <td>Nel frattempo è mio desiderio, come del resto ...</td>\n",
       "      <td>In the meantime, I should like to observe a mi...</td>\n",
       "      <td>224</td>\n",
       "      <td>224</td>\n",
       "    </tr>\n",
       "  </tbody>\n",
       "</table>\n",
       "</div>"
      ],
      "text/plain": [
       "                                                  it  \\\n",
       "0                             Ripresa della sessione   \n",
       "1  Dichiaro ripresa la sessione del Parlamento eu...   \n",
       "2  Come avrete avuto modo di constatare il grande...   \n",
       "3  Avete chiesto che si tenesse una discussione s...   \n",
       "4  Nel frattempo è mio desiderio, come del resto ...   \n",
       "\n",
       "                                                  en  len_of_sen  \\\n",
       "0                          Resumption of the session          22   \n",
       "1  I declare resumed the session of the European ...         182   \n",
       "2  Although, as you will have seen, the dreaded '...         211   \n",
       "3  You have requested a debate on this subject in...         112   \n",
       "4  In the meantime, I should like to observe a mi...         224   \n",
       "\n",
       "   it_len_of_sen  \n",
       "0             22  \n",
       "1            182  \n",
       "2            211  \n",
       "3            112  \n",
       "4            224  "
      ]
     },
     "execution_count": 33,
     "metadata": {},
     "output_type": "execute_result"
    }
   ],
   "source": [
    "data.head()"
   ]
  },
  {
   "cell_type": "code",
   "execution_count": 10,
   "id": "502403d6-c794-425a-863d-d5e4a0f9d5d7",
   "metadata": {},
   "outputs": [
    {
     "data": {
      "text/plain": [
       "170.8386165904387"
      ]
     },
     "execution_count": 10,
     "metadata": {},
     "output_type": "execute_result"
    }
   ],
   "source": [
    "data['it_len_of_sen'].mean()"
   ]
  },
  {
   "cell_type": "code",
   "execution_count": 45,
   "id": "8e970210-e279-4177-bca2-ab56e6fabd01",
   "metadata": {},
   "outputs": [
    {
     "name": "stdout",
     "output_type": "stream",
     "text": [
      "<class 'pandas.core.series.Series'>\n",
      "RangeIndex: 1878576 entries, 0 to 1878575\n",
      "Series name: en\n",
      "Non-Null Count    Dtype \n",
      "--------------    ----- \n",
      "1860064 non-null  object\n",
      "dtypes: object(1)\n",
      "memory usage: 14.3+ MB\n"
     ]
    }
   ],
   "source": [
    "data['en'].info()"
   ]
  },
  {
   "cell_type": "code",
   "execution_count": 13,
   "id": "6d043d8e-4826-4957-82e1-3849e3725e7d",
   "metadata": {},
   "outputs": [
    {
     "data": {
      "text/html": [
       "<div>\n",
       "<style scoped>\n",
       "    .dataframe tbody tr th:only-of-type {\n",
       "        vertical-align: middle;\n",
       "    }\n",
       "\n",
       "    .dataframe tbody tr th {\n",
       "        vertical-align: top;\n",
       "    }\n",
       "\n",
       "    .dataframe thead th {\n",
       "        text-align: right;\n",
       "    }\n",
       "</style>\n",
       "<table border=\"1\" class=\"dataframe\">\n",
       "  <thead>\n",
       "    <tr style=\"text-align: right;\">\n",
       "      <th></th>\n",
       "      <th>it</th>\n",
       "      <th>en</th>\n",
       "      <th>it_len_of_sen</th>\n",
       "    </tr>\n",
       "  </thead>\n",
       "  <tbody>\n",
       "    <tr>\n",
       "      <th>1860064</th>\n",
       "      <td>Recentemente abbiamo votato per il rinnovo del...</td>\n",
       "      <td>None</td>\n",
       "      <td>162</td>\n",
       "    </tr>\n",
       "    <tr>\n",
       "      <th>1860065</th>\n",
       "      <td>Concludendo, a mio modo di vedere, uno scambio...</td>\n",
       "      <td>None</td>\n",
       "      <td>354</td>\n",
       "    </tr>\n",
       "    <tr>\n",
       "      <th>1860066</th>\n",
       "      <td>Signor Presidente, il Trattato di Amsterdam st...</td>\n",
       "      <td>None</td>\n",
       "      <td>242</td>\n",
       "    </tr>\n",
       "    <tr>\n",
       "      <th>1860067</th>\n",
       "      <td>Sia nella comunicazione della Commissione euro...</td>\n",
       "      <td>None</td>\n",
       "      <td>224</td>\n",
       "    </tr>\n",
       "    <tr>\n",
       "      <th>1860068</th>\n",
       "      <td>Esiste un grosso pericolo che gli altri effett...</td>\n",
       "      <td>None</td>\n",
       "      <td>105</td>\n",
       "    </tr>\n",
       "    <tr>\n",
       "      <th>...</th>\n",
       "      <td>...</td>\n",
       "      <td>...</td>\n",
       "      <td>...</td>\n",
       "    </tr>\n",
       "    <tr>\n",
       "      <th>1878571</th>\n",
       "      <td>Inoltre, nonostante siano assenti, vorrei ring...</td>\n",
       "      <td>None</td>\n",
       "      <td>90</td>\n",
       "    </tr>\n",
       "    <tr>\n",
       "      <th>1878572</th>\n",
       "      <td>Non riaprirò il dibattito \"millennio sì, mille...</td>\n",
       "      <td>None</td>\n",
       "      <td>194</td>\n",
       "    </tr>\n",
       "    <tr>\n",
       "      <th>1878573</th>\n",
       "      <td>Interruzione della sessione</td>\n",
       "      <td>None</td>\n",
       "      <td>27</td>\n",
       "    </tr>\n",
       "    <tr>\n",
       "      <th>1878574</th>\n",
       "      <td>Dichiaro interrotta la sessione del Parlamento...</td>\n",
       "      <td>None</td>\n",
       "      <td>55</td>\n",
       "    </tr>\n",
       "    <tr>\n",
       "      <th>1878575</th>\n",
       "      <td>(La seduta termina alle 10.50)</td>\n",
       "      <td>None</td>\n",
       "      <td>30</td>\n",
       "    </tr>\n",
       "  </tbody>\n",
       "</table>\n",
       "<p>18512 rows × 3 columns</p>\n",
       "</div>"
      ],
      "text/plain": [
       "                                                        it    en  \\\n",
       "1860064  Recentemente abbiamo votato per il rinnovo del...  None   \n",
       "1860065  Concludendo, a mio modo di vedere, uno scambio...  None   \n",
       "1860066  Signor Presidente, il Trattato di Amsterdam st...  None   \n",
       "1860067  Sia nella comunicazione della Commissione euro...  None   \n",
       "1860068  Esiste un grosso pericolo che gli altri effett...  None   \n",
       "...                                                    ...   ...   \n",
       "1878571  Inoltre, nonostante siano assenti, vorrei ring...  None   \n",
       "1878572  Non riaprirò il dibattito \"millennio sì, mille...  None   \n",
       "1878573                        Interruzione della sessione  None   \n",
       "1878574  Dichiaro interrotta la sessione del Parlamento...  None   \n",
       "1878575                     (La seduta termina alle 10.50)  None   \n",
       "\n",
       "         it_len_of_sen  \n",
       "1860064            162  \n",
       "1860065            354  \n",
       "1860066            242  \n",
       "1860067            224  \n",
       "1860068            105  \n",
       "...                ...  \n",
       "1878571             90  \n",
       "1878572            194  \n",
       "1878573             27  \n",
       "1878574             55  \n",
       "1878575             30  \n",
       "\n",
       "[18512 rows x 3 columns]"
      ]
     },
     "execution_count": 13,
     "metadata": {},
     "output_type": "execute_result"
    }
   ],
   "source": [
    "data[data['en'].isnull() == True]"
   ]
  },
  {
   "cell_type": "code",
   "execution_count": 25,
   "id": "61d1637e",
   "metadata": {},
   "outputs": [
    {
     "data": {
      "text/html": [
       "<div>\n",
       "<style scoped>\n",
       "    .dataframe tbody tr th:only-of-type {\n",
       "        vertical-align: middle;\n",
       "    }\n",
       "\n",
       "    .dataframe tbody tr th {\n",
       "        vertical-align: top;\n",
       "    }\n",
       "\n",
       "    .dataframe thead th {\n",
       "        text-align: right;\n",
       "    }\n",
       "</style>\n",
       "<table border=\"1\" class=\"dataframe\">\n",
       "  <thead>\n",
       "    <tr style=\"text-align: right;\">\n",
       "      <th></th>\n",
       "      <th>it</th>\n",
       "      <th>en</th>\n",
       "      <th>it_len_of_sen</th>\n",
       "    </tr>\n",
       "  </thead>\n",
       "  <tbody>\n",
       "  </tbody>\n",
       "</table>\n",
       "</div>"
      ],
      "text/plain": [
       "Empty DataFrame\n",
       "Columns: [it, en, it_len_of_sen]\n",
       "Index: []"
      ]
     },
     "execution_count": 25,
     "metadata": {},
     "output_type": "execute_result"
    }
   ],
   "source": [
    "data[data['it'].isnull() == True]"
   ]
  },
  {
   "cell_type": "code",
   "execution_count": 23,
   "id": "1012a01f-cd05-4585-8f2f-fb2a564770d0",
   "metadata": {},
   "outputs": [],
   "source": [
    "# new df for non none\n",
    "words_df = data[(data['en'].isnull() == False) & (data['it'].isnull() == False)]"
   ]
  },
  {
   "cell_type": "code",
   "execution_count": 24,
   "id": "5100e349",
   "metadata": {},
   "outputs": [
    {
     "data": {
      "text/plain": [
       "1860064"
      ]
     },
     "execution_count": 24,
     "metadata": {},
     "output_type": "execute_result"
    }
   ],
   "source": [
    "len(words_df)"
   ]
  },
  {
   "cell_type": "code",
   "execution_count": 28,
   "id": "fe3855ab",
   "metadata": {},
   "outputs": [],
   "source": [
    "import re"
   ]
  },
  {
   "cell_type": "code",
   "execution_count": 37,
   "id": "94b028ab",
   "metadata": {},
   "outputs": [
    {
     "data": {
      "text/plain": [
       "22.344514489824007"
      ]
     },
     "execution_count": 37,
     "metadata": {},
     "output_type": "execute_result"
    }
   ],
   "source": [
    "words_df['en'].apply(lambda w : len(set(re.sub(r'[^\\w\\s]', '',w).split()))).mean()"
   ]
  },
  {
   "cell_type": "code",
   "execution_count": 38,
   "id": "0f2a1533",
   "metadata": {},
   "outputs": [
    {
     "data": {
      "text/plain": [
       "22.96809733428527"
      ]
     },
     "execution_count": 38,
     "metadata": {},
     "output_type": "execute_result"
    }
   ],
   "source": [
    "words_df['it'].apply(lambda w : len(set(re.sub(r'[^\\w\\s]', '',w).split()))).mean()"
   ]
  },
  {
   "cell_type": "code",
   "execution_count": null,
   "id": "3568c01b",
   "metadata": {},
   "outputs": [],
   "source": []
  }
 ],
 "metadata": {
  "kernelspec": {
   "display_name": "Python 3 (ipykernel)",
   "language": "python",
   "name": "python3"
  },
  "language_info": {
   "codemirror_mode": {
    "name": "ipython",
    "version": 3
   },
   "file_extension": ".py",
   "mimetype": "text/x-python",
   "name": "python",
   "nbconvert_exporter": "python",
   "pygments_lexer": "ipython3",
   "version": "3.11.5"
  }
 },
 "nbformat": 4,
 "nbformat_minor": 5
}
