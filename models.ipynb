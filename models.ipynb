{
 "cells": [
  {
   "cell_type": "code",
   "execution_count": 1,
   "id": "df774aaa",
   "metadata": {},
   "outputs": [],
   "source": [
    "import torch\n",
    "import torch.nn"
   ]
  },
  {
   "cell_type": "code",
   "execution_count": 7,
   "id": "e953b455",
   "metadata": {},
   "outputs": [],
   "source": [
    "class CBOW(torch.nn.Module):\n",
    "  def __init__(self, vocab_size, embedding_dim):\n",
    "    super(CBOW, self).__init__()\n",
    "    self.embeddings = torch.nn.Embedding(vocab_size, embedding_dim)\n",
    "    #output = input * weight^T + bias\n",
    "    self.linear = torch.nn.Linear(embedding_dim, vocab_size)\n",
    "\n",
    "  def forward(self, inputs):\n",
    "  \t\n",
    "    embeds = torch.sum(self.embeddings(inputs), dim=1)\n",
    "    out = self.linear(embeds)\n",
    "    log_probs = torch.nn.functional.log_softmax(out, dim=1)\n",
    "    return log_probs\n",
    "\n",
    "\n",
    "class SkipGram(torch.nn.Module):\n",
    "  def __init__(self, vocab_size, embedding_dim):\n",
    "    super(SkipGram, self).__init__()\n",
    "    self.embeddings = torch.nn.Embedding(vocab_size, embedding_dim)\n",
    "    self.linear = torch.nn.Linear(embedding_dim, vocab_size)\n",
    "\n",
    "  def forward(self, target_word):\n",
    "    embeds = self.embeddings(target_word)\n",
    "    out = self.linear(embeds)\n",
    "    log_probs = torch.nn.functional.log_softmax(out, dim=1)\n",
    "    return log_probs\n"
   ]
  },
  {
   "cell_type": "code",
   "execution_count": 8,
   "id": "bd9ff35e",
   "metadata": {},
   "outputs": [],
   "source": [
    "class Language(torch.nn.Module):\n",
    "  def __init__(self, embedding_weights, num_classes=7):\n",
    "    super(Language, self).__init__()\n",
    "    #The embedding weights...???\n",
    "    #THe embedding layer is basically the embedding encoding. THey have the same values. THe word encoding is just a lookup table of the weights.\n",
    "    vocab_size, embedding_dim = embedding_weights.size()\n",
    "    \n",
    "    self.embeddings = torch.nn.Embedding(vocab_size, embedding_dim)\n",
    "    #weights are being loaded, not the encoded output.\n",
    "    self.embeddings.load_state_dict({'weight': embedding_weights})\n",
    "    # self.embeddings.requires_grad = False  # Optional: Freeze embeddings\n",
    "    self.linear = torch.nn.Linear(embedding_dim, num_classes)\n",
    "\n",
    "  def forward(self, inputs):\n",
    "    embeds = self.embeddings(inputs)\n",
    "    # Average pooling along the sequence length\n",
    "    pooled = torch.mean(embeds, dim=1)\n",
    "    output = self.linear(pooled)\n",
    "    return output"
   ]
  }
 ],
 "metadata": {
  "kernelspec": {
   "display_name": "Python 3 (ipykernel)",
   "language": "python",
   "name": "python3"
  },
  "language_info": {
   "codemirror_mode": {
    "name": "ipython",
    "version": 3
   },
   "file_extension": ".py",
   "mimetype": "text/x-python",
   "name": "python",
   "nbconvert_exporter": "python",
   "pygments_lexer": "ipython3",
   "version": "3.11.5"
  }
 },
 "nbformat": 4,
 "nbformat_minor": 5
}
