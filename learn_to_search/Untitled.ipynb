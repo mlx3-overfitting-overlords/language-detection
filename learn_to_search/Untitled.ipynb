{
 "cells": [
  {
   "cell_type": "code",
   "execution_count": 10,
   "id": "cf194350-3fa9-48ec-bff0-cc5b4b4a966b",
   "metadata": {},
   "outputs": [],
   "source": [
    "import torch\n",
    "import tokenizer\n",
    "import model\n",
    "\n",
    "tokens = tokenizer.Tokenizer()"
   ]
  },
  {
   "cell_type": "code",
   "execution_count": null,
   "id": "3e154bd7-c4ab-4c3b-9310-f008fdf640d3",
   "metadata": {},
   "outputs": [],
   "source": []
  }
 ],
 "metadata": {
  "kernelspec": {
   "display_name": "Python 3 (ipykernel)",
   "language": "python",
   "name": "python3"
  },
  "language_info": {
   "codemirror_mode": {
    "name": "ipython",
    "version": 3
   },
   "file_extension": ".py",
   "mimetype": "text/x-python",
   "name": "python",
   "nbconvert_exporter": "python",
   "pygments_lexer": "ipython3",
   "version": "3.11.5"
  }
 },
 "nbformat": 4,
 "nbformat_minor": 5
}
